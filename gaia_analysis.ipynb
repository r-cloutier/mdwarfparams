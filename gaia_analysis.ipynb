{
 "cells": [
  {
   "cell_type": "code",
   "execution_count": 1,
   "metadata": {},
   "outputs": [],
   "source": [
    "from imports import *\n",
    "from GAIAMdwarfs import *\n",
    "%matplotlib inline"
   ]
  },
  {
   "cell_type": "markdown",
   "metadata": {},
   "source": [
    "## cross-match stellar data from NASA archive and GAIA"
   ]
  },
  {
   "cell_type": "code",
   "execution_count": 74,
   "metadata": {},
   "outputs": [],
   "source": [
    "# get input stellar data and compute parameters using GAIA parallax\n",
    "def get_stellar_data():\n",
    "    # cross-match Nasa and GAIA stars\n",
    "    ids, names, raN, decN, dist, udist, ldist, Teff, uTeff, lTeff, Ms, uMs, lMs, Rs, uRs, lRs, Ls, uLs, lLs, M_H, uM_H, lM_H, Vmag, eVmag, Jmag, eJmag, Hmag, eHmag, Kmag, eKmag = _get_NASA_stellar_data()\n",
    "    idsG, raG, decG, par, epar = _get_GAIA_stellar_data()\n",
    "    assert np.all(np.in1d(idsG, ids))\n",
    "    print 'Number of transiting planets around stars with Teff<=4400 K =', ids.size\n",
    "    # only keep stars with GAIA parrallaxes and on the MS\n",
    "    g = (np.isfinite(par)) & (np.isfinite(eKmag)) & (Rs < 1)\n",
    "    print 'Subset of stars with GAIA parallaxes and photometry =', int(g.sum())\n",
    "    ids, names, raG, decG = ids[g], names[g], raG[g], decG[g]\n",
    "    # create unumpy arrays of stellar params from NASA\n",
    "    #TeffN = unp.uarray(Teff, np.mean(np.array([uTeff,abs(lTeff)]),axis=0))[g]\n",
    "    #MsN = unp.uarray(Ms, np.mean(np.array([uMs,abs(lMs)]),axis=0))[g]\n",
    "    #RsN = unp.uarray(Rs, np.mean(np.array([uRs,abs(lRs)]),axis=0))[g]\n",
    "    #LsN = unp.uarray(Ls, np.mean(np.array([uLs,abs(lLs)]),axis=0))[g]\n",
    "    #M_HN = unp.uarray(M_H, np.mean(np.array([uM_H,abs(lM_H)]),axis=0))[g]\n",
    "    #Vmag = unp.uarray(Vmag, eVmag)[g]\n",
    "    #Jmag = unp.uarray(Jmag, eJmag)[g]\n",
    "    #Hmag = unp.uarray(Hmag, eHmag)[g]\n",
    "    #Kmag = unp.uarray(Kmag, eKmag)[g]\n",
    "    #parG = unp.uarray(par, epar)[g]\n",
    "    # get GAIA-derived stellar parameters\n",
    "    #MkG = compute_Mk(Kmag, parG)\n",
    "    #g2 = unp.nominal_values(MkG) <= 10\n",
    "    #print 'Subset of stars with Mk<=10 (for MLR) =', g2.sum()\n",
    "    #assert g2.sum() == Kmag.size  # no stars with Mk>10\n",
    "    #MsG = compute_Ms_from_Mk(MkG)\n",
    "    #RsG = compute_Rs_from_Ms(MsG)\n",
    "    #return ids, names, raG, decG, parG, TeffN, MsN, MsG, RsN, RsG, LsN, M_HN, Vmag, Jmag, Hmag, Kmag, MkG\n",
    "    return ids,names,raG,decG,par[g],epar[g],dist[g],udist[g],ldist[g],Teff[g],uTeff[g],lTeff[g],Ms[g],uMs[g],lMs[g],\\\n",
    "    Rs[g],uRs[g],lRs[g],Ls[g],uLs[g],lLs[g],Vmag[g],eVmag[g],Jmag[g],eJmag[g],Hmag[g],eHmag[g],Kmag[g],eKmag[g]\n",
    "    \n",
    "\n",
    "def _get_NASA_stellar_data():\n",
    "    d = np.genfromtxt('input_data/NASAexoplanet_Aug222018_stellarv2.csv', skip_header=53, delimiter=',')\n",
    "    ids,_,_,_,ra,_,dec,dist,udist,ldist,_,Teff,uTeff,lTeff,_,Ms,uMs,lMs,_,Rs,uRs,lRs,_,_,Ls,uLs,lLs,_,M_H,uM_H,lM_H,_,Vmag,eVmag,_,Jmag,eJmag,_,Hmag,eHmag,_,Kmag,eKmag,_ = d.T\n",
    "    _,names = np.genfromtxt('input_data/NASAexoplanet_Aug222018_stellarv2.csv', skip_header=53, delimiter=',', usecols=(0,1), dtype='|S30').T\n",
    "    print ids.size, names.size\n",
    "    assert ids.size == names.size\n",
    "    return ids, names, ra, dec, dist, udist, ldist, Teff, uTeff, lTeff, Ms, uMs, lMs, Rs, uRs, lRs, Ls, uLs, lLs, M_H, uM_H, lM_H, Vmag, eVmag, Jmag, eJmag, Hmag, eHmag, Kmag, eKmag\n",
    "\n",
    "\n",
    "def _get_GAIA_stellar_data():\n",
    "    ids, ra, dec, par, epar = np.loadtxt('input_data/GAIA_query_results.csv', delimiter=',').T\n",
    "    return ids, ra, dec, par, epar"
   ]
  },
  {
   "cell_type": "code",
   "execution_count": 75,
   "metadata": {},
   "outputs": [],
   "source": [
    "# compute stellar parameters\n",
    "def compute_distance(par):\n",
    "    return rvs.m2pc(rvs.AU2m(1) / unp.radians(par*1e-3/3600))\n",
    "\n",
    "def compute_Mk(Kmag, par):\n",
    "    dist_pc = compute_distance(par)\n",
    "    return Kmag - 5*unp.log10(dist_pc) + 5\n",
    "\n",
    "def compute_Ms_from_Mk(Mk):\n",
    "    '''from Eq 11 and Table 13 in Benedict+2016'''\n",
    "    C0 = unp.uarray(.2311, .0004)\n",
    "    C1 = unp.uarray(-.1352, .0007)\n",
    "    C2 = unp.uarray(.04, .0005)\n",
    "    C3 = unp.uarray(.0038, .0002)\n",
    "    C4 = unp.uarray(-.0032, .0001)\n",
    "    x0 = 7.5\n",
    "    return C0 + C1*(Mk-x0) + C2*(Mk-x0)**2 + C3*(Mk-x0)**3 + C4*(Mk-x0)**4\n",
    "\n",
    "def compute_Rs_from_Ms(Ms):\n",
    "    '''Eq 10 in Boyajian+2012'''\n",
    "    a = unp.uarray(.32, .0165)\n",
    "    b = unp.uarray(.6063, .0153)\n",
    "    c = unp.uarray(.0906, .0027)\n",
    "    return a*Ms*Ms + b*Ms + c\n",
    "\n",
    "\n",
    "def compute_logLs_from_Rs(Rs):\n",
    "    a = unp.uarray(4.5169, 0.2265)\n",
    "    b = unp.uarray(-7.1850, 0.3398)\n",
    "    c = unp.uarray(6.8639, 0.1562)\n",
    "    d = unp.uarray(-3.5822, 0.0219)\n",
    "    return a*Rs**3 + b*Rs**2 + c*Rs + d\n",
    "\n",
    "\n",
    "def compute_logLs_v2(Rs, Teff):\n",
    "    return unp.log10(Rs**2 * (Teff/5775.)**4)"
   ]
  },
  {
   "cell_type": "markdown",
   "metadata": {},
   "source": [
    "## update planet parameters using the new GAIA parallaxes"
   ]
  },
  {
   "cell_type": "code",
   "execution_count": 79,
   "metadata": {},
   "outputs": [],
   "source": [
    "# get input planetary data\n",
    "def get_planetary_data():\n",
    "    # get planet parameters from NASA\n",
    "    idsP, names, mult, P, uP, lP, sma, usma, lsma, ecc, uecc, lecc, inc, uinc, linc, TTVflag, Kepflag, K2flag, transitflag, RVflag, K, uK, lK, mp, ump, lmp, rp, urp, lrp, depth, udepth, ldepth, dur, udur, ldur, b, ub, lb, rpRs, urpRs, lrpRs = _get_NASA_planetary_data()\n",
    "    assert idsP.size == 260\n",
    "    # only keep stars with GAIA parrallaxes and photometry\n",
    "    ids, names, raN, decN, dist, udist, ldist, Teff, uTeff, lTeff, Ms, uMs, lMs, Rs, uRs, lRs, Ls, uLs, lLs, M_H, uM_H, lM_H, Vmag, eVmag, Jmag, eJmag, Hmag, eHmag, Kmag, eKmag = _get_NASA_stellar_data()\n",
    "    idsG, raG, decG, parG, eparG = _get_GAIA_stellar_data()\n",
    "    assert np.all(np.in1d(idsG, ids))\n",
    "    assert np.all(np.in1d(idsG, idsP))\n",
    "    g = (np.isfinite(parG)) & (np.isfinite(eKmag)) & (Rs < 1)\n",
    "    assert g.sum() == 250\n",
    "    # create unumpy arrays of stellar params from NASA\n",
    "    #PN = unp.uarray(P, np.mean(np.array([uP,abs(lP)]),axis=0))[g]\n",
    "    #smaN = unp.uarray(sma, np.mean(np.array([usma,abs(lsma)]),axis=0))[g]\n",
    "    #eccN = unp.uarray(ecc, np.mean(np.array([uecc,abs(lecc)]),axis=0))[g]\n",
    "    #incN = unp.uarray(inc, np.mean(np.array([uinc,abs(linc)]),axis=0))[g]\n",
    "    #TTVflag, Kepflag, K2flag, transitflag, RVflag = TTVflag[g], Kepflag[g], K2flag[g], transitflag[g], RVflag[g]\n",
    "    #KN = unp.uarray(K, np.mean(np.array([uK,abs(lK)]),axis=0))[g]\n",
    "    #mpN = unp.uarray(mp, np.mean(np.array([ump,abs(lmp)]),axis=0))[g]\n",
    "    #rpN = unp.uarray(rp, np.mean(np.array([urp,abs(lrp)]),axis=0))[g]\n",
    "    #depthN = unp.uarray(depth, np.mean(np.array([udepth,abs(ldepth)]),axis=0))[g]\n",
    "    #durN = unp.uarray(dur, np.mean(np.array([udur,abs(ldur)]),axis=0))[g]\n",
    "    #bN = unp.uarray(b, np.mean(np.array([ub,abs(lb)]),axis=0))[g]\n",
    "    #rpRsN = unp.uarray(rpRs, np.mean(np.array([urpRs,abs(lrpRs)]),axis=0))[g]\n",
    "    #return ids[g], names[g], PN, smaN, eccN, incN, TTVflag, Kepflag, K2flag, transitflag, RVflag, KN, mpN, rpN, depthN, durN, bN, rpRsN\n",
    "    return ids[g],names[g],P[g],uP[g],lP[g],sma[g],usma[g],lsma[g],ecc[g],uecc[g],lecc[g],inc[g],uinc[g],linc[g],\\\n",
    "    TTVflag[g],Kepflag[g],K2flag[g],transitflag[g],RVflag[g],K[g],uK[g],lK[g],mp[g],ump[g],lmp[g],rp[g],urp[g],lrp[g],\\\n",
    "    depth[g],udepth[g],ldepth[g],dur[g],udur[g],ldur[g],b[g],ub[g],lb[g],rpRs[g],urpRs[g],lrpRs[g]\n",
    "    \n",
    "def _get_NASA_planetary_data():\n",
    "    d = np.genfromtxt('input_data/NASAexoplanet_Aug222018_planetaryv2.csv', skip_header=70, delimiter=',')\n",
    "    ids,_,_,mult,P,uP,lP,_,sma,usma,lsma,_,ecc,uecc,lecc,_,inc,uinc,linc,_,_,_,_,_,TTVflag,Kepflag,K2flag,_,_,_,_,transitflag,RVflag,K,uK,lK,_,mp,ump,lmp,_,rp,urp,lrp,_,depth,udepth,ldepth,_,dur,udur,ldur,_,b,ub,lb,_,rpRs,urpRs,lrpRs,_ = d.T\n",
    "    _,names = np.genfromtxt('input_data/NASAexoplanet_Aug222018_stellarv2.csv', skip_header=53, delimiter=',', usecols=(0,1), dtype='|S30').T\n",
    "    assert ids.size == names.size\n",
    "    return ids, names, mult, P, uP, lP, sma, usma, lsma, ecc, uecc, lecc, inc, uinc, linc, TTVflag, Kepflag, K2flag, transitflag, RVflag, K, uK, lK, mp, ump, lmp, rp, urp, lrp, depth, udepth, ldepth, dur, udur, ldur, b, ub, lb, rpRs, urpRs, lrpRs"
   ]
  },
  {
   "cell_type": "code",
   "execution_count": 91,
   "metadata": {},
   "outputs": [],
   "source": [
    "def get_all_data():\n",
    "    '''use above functions to read in stellar and planetary parameters together'''\n",
    "    #ids,names,raG,decG,parG,TeffN,MsN,MsG,RsN,RsG,LsN,M_HN,Vmag,Jmag,Hmag,Kmag,MkG = get_stellar_data()\n",
    "    ids,names,raG,decG,par,epar,dist,udist,ldist,Teff,uTeff,lTeff,Ms,uMs,lMs,Rs,uRs,lRs,Ls,uLs,lLs,Vmag,eVmag,\\\n",
    "    Jmag,eJmag,Hmag,eHmag,Kmag,eKmag = get_stellar_data()\n",
    "    #idsP,_,PN,smaN,eccN,incN,TTVflag,Kepflag,K2flag,transitflag,RVflag,KN,mpN,rpN,depthN,durN,bN,rpRsN = get_planetary_data()\n",
    "    idsP,names,P,uP,lP,sma,usma,lsma,ecc,uecc,lecc,inc,uinc,linc,TTVflag,Kepflag,K2flag,transitflag,RVflag,K,uK,lK,\\\n",
    "    mp,ump,lmp,rp,urp,lrp,depth,udepth,ldepth,dur,udur,ldur,b,ub,lb,rpRs,urpRs,lrpRs = get_planetary_data()\n",
    "    #g = np.isnan(unp.nominal_values(rpRsN))\n",
    "    #g = np.isnan(rpRs)\n",
    "    #rpRs[g] = (rvs.Rearth2m(rp) / rvs.Rsun2m(Rs))[g]\n",
    "    assert ids.size == idsP.size\n",
    "    #assert np.all(np.isfinite(unp.nominal_values(rpN)))\n",
    "    #assert np.all(np.isfinite(unp.std_devs(rpN)))\n",
    "    assert np.all(np.isfinite(rp))\n",
    "    assert np.all(np.isfinite(rp))\n",
    "    # get new planet params\n",
    "    #mpG = compute_mp(PN, MsG, KN, eccN, incN)\n",
    "    #rpG = compute_rp(rpRsN, RsG)\n",
    "    #return ids,names,raG,decG,parG,TeffN,MsN,MsG,RsN,RsG,LsN,M_HN,Vmag,Jmag,Hmag,Kmag,MkG,PN,smaN,eccN,incN,TTVflag,Kepflag,K2flag,transitflag,RVflag,KN,mpN,mpG,rpN,rpG,rpRsN,depthN,durN,bN\n",
    "    return ids,names,raG,decG,par,epar,dist,udist,abs(ldist),Teff,uTeff,abs(lTeff),Ms,uMs,abs(lMs),Rs,uRs,abs(lRs),\\\n",
    "    Ls,uLs,abs(lLs),Vmag,eVmag,Jmag,eJmag,Hmag,eHmag,Kmag,eKmag,P,uP,abs(lP),sma,usma,abs(lsma),ecc,uecc,abs(lecc),\\\n",
    "    inc,uinc,abs(linc),TTVflag,Kepflag,K2flag,transitflag,RVflag,K,uK,abs(lK),mp,ump,abs(lmp),rp,urp,abs(lrp),\\\n",
    "    rpRs,urpRs,abs(lrpRs),depth,udepth,abs(ldepth),dur,udur,abs(ldur),b,ub,abs(lb)\n",
    "    \n",
    "    \n",
    "def compute_rp(rpRs, Rs):\n",
    "    return rvs.m2Rearth(rvs.Rsun2m(rpRs*Rs))\n",
    "    \n",
    "    \n",
    "def compute_mp(Ps, Ms, K, ecc, inc):\n",
    "    ecc[np.isnan(unp.nominal_values(ecc))] = 0.\n",
    "    inc[np.isnan(unp.nominal_values(inc))] = 90.\n",
    "    return rvs.RV_mp(Ps, Ms, K, ecc, inc)"
   ]
  },
  {
   "cell_type": "markdown",
   "metadata": {},
   "source": [
    "## get input data and compute planet parameters "
   ]
  },
  {
   "cell_type": "code",
   "execution_count": 119,
   "metadata": {},
   "outputs": [
    {
     "name": "stdout",
     "output_type": "stream",
     "text": [
      "260 260\n",
      "Number of transiting planets around stars with Teff<=4400 K = 260\n",
      "Subset of stars with GAIA parallaxes and photometry = 250\n",
      "260 260\n"
     ]
    }
   ],
   "source": [
    "# get input data\n",
    "#ids,names,raG,decG,parG,TeffN,MsN,MsG,RsN,RsG,LsN,M_HN,\\\n",
    "#Vmag,Jmag,Hmag,Kmag,MkG,PN,smaN,eccN,incN,TTVflag,Kepflag,K2flag,transitflag,RVflag,\\\n",
    "#KN,mpN,mpG,rpN,rpG,rpRsN,depthN,durN,bN = get_all_data()\n",
    "ids,names,raG,decG,par,epar,dist,udist,ldist,Teff,uTeff,lTeff,Ms,uMs,lMs,Rs,uRs,lRs,Ls,uLs,lLs,Vmag,eVmag,Jmag,eJmag,\\\n",
    "Hmag,eHmag,Kmag,eKmag,P,uP,lP,sma,usma,lsma,ecc,uecc,lecc,inc,uinc,linc,TTVflag,Kepflag,K2flag,transitflag,RVflag,\\\n",
    "K,uK,lK,mp,ump,lmp,rp,urp,lrp,rpRs,urpRs,lrpRs,depth,udepth,ldepth,dur,udur,ldur,b,ub,lb = get_all_data()"
   ]
  },
  {
   "cell_type": "code",
   "execution_count": 120,
   "metadata": {},
   "outputs": [],
   "source": [
    "# create new table and save for easy access and editting of NASA archive values\n",
    "hdr = '00: ID\\n01: RA [deg]\\n02: Dec [deg]\\n03: GAIA Parallax [mas]\\n04: e\\n05: Teff [K]\\n06: e\\n'\n",
    "hdr += '07: Ms [MSun]\\n08: e\\n09: Rs [RSun]\\n10: e\\n11: Ls [LSun]\\n12: e\\n13: Vmag []\\n14: e\\n'\n",
    "hdr += '15: Jmag []\\n16: e\\n17: Hmag []\\n18: e\\n19: Kmag []\\n20: e\\n21: P [days]\\n22: e\\n'\n",
    "hdr += '23: a [AU]\\n24: e\\n25: ecc []\\n26: e\\n27: inc [deg]\\n28: e\\n29: K [m/s]\\n30: e\\n'\n",
    "hdr += '31: mp [MEarth]\\n32: e\\n33: rp [REarth]\\n34: e\\n35: rpRs []\\n36: e'\n",
    "self = GAIAMdwarfs('input_data/GAIAMdwarfs_fullerrors')\n",
    "self.ids, self.names, self.N, self.G = ids, names, 'from the NASA exoplanet archive', 'measured from the GAIA parallax'\n",
    "self.raG, self.decG = raG, decG\n",
    "self.parallaxG, self.eparallaxG, self.distN, self.udistN, self.ldistN = par, epar, dist, udist, ldist\n",
    "self.TeffN, self.uTeffN, self.lTeffN = Teff, uTeff, lTeff\n",
    "self.MsN, self.uMsN, self.lMsN = Ms, uMs, lMs\n",
    "self.RsN, self.uRsN, self.lRsN = Rs, uRs, lRs\n",
    "self.LsN, self.uLsN, self.lLsN = Ls, uLs, lLs\n",
    "#self.LsN_LRR = compute_logLs_from_Rs(self.Rs)\n",
    "self.TTVflag, self.RVflag = TTVflag, RVflag\n",
    "self.Vmag, self.eVmag, self.Jmag, self.eJmag = Vmag, eVmag, Jmag, eJmag\n",
    "self.Hmag, self.eHmag, self.Kmag, self.eKmag = Hmag, eHmag, Kmag, eKmag\n",
    "self.Ps, self.uPs, self.lPs = P, uP, lP\n",
    "self.smasN, self.usmasN, self.lsmasN = sma, usma, lsma\n",
    "self.eccs, self.ueccs, self.leccs = ecc, uecc, lecc\n",
    "self.incs, self.uincs, self.lincs = inc, uinc, linc\n",
    "self.Ks, self.uKs, self.lKs = K, uK, lK\n",
    "self.mpsN, self.umpsN, self.lmpsN = mp, ump, lmp\n",
    "self.rpsN, self.urpsN, self.lrpsN = rp, urp, lrp\n",
    "self.rpRs, self.urpRs, self.lrpRs = rpRs, urpRs, lrpRs\n",
    "# calculate rp from rp/Rs * Rs\n",
    "urpRs, lrpRs = unp.uarray(rpRs, urpRs), unp.uarray(rpRs, lrpRs)\n",
    "uRs, lRs = unp.uarray(Rs, uRs), unp.uarray(Rs, lRs)\n",
    "urp, lrp = rvs.m2Rearth(rvs.Rsun2m(urpRs*uRs)), rvs.m2Rearth(rvs.Rsun2m(lrpRs*lRs))\n",
    "self.rpsN_calc, self.urpsN_calc, self.lrpsN_calc = unp.nominal_values(urp), unp.std_devs(urp), unp.std_devs(lrp)\n",
    "self._pickleoject()"
   ]
  },
  {
   "cell_type": "code",
   "execution_count": 25,
   "metadata": {},
   "outputs": [
    {
     "data": {
      "text/plain": [
       "<matplotlib.collections.PathCollection at 0x115ee5750>"
      ]
     },
     "execution_count": 25,
     "metadata": {},
     "output_type": "execute_result"
    },
    {
     "data": {
      "image/png": "[encoded data removed]",
      "text/plain": [
       "<Figure size 432x288 with 1 Axes>"
      ]
     },
     "metadata": {},
     "output_type": "display_data"
    }
   ],
   "source": [
    "# add missing fields here\n",
    "i = 0\n",
    "plt.scatter(unp.nominal_values(self.RsN), unp.nominal_values(self.TeffN), c=unp.nominal_values(self.LsN_LRR))"
   ]
  },
  {
   "cell_type": "code",
   "execution_count": 34,
   "metadata": {},
   "outputs": [
    {
     "name": "stdout",
     "output_type": "stream",
     "text": [
      "(250, 37)\n"
     ]
    }
   ],
   "source": [
    "# save\n",
    "print output.shape\n",
    "fmt = ('%.1f,%.6f,%.6f,%.12f,%.12f,%.1f,%.1f,%.3f,%.3f,%.3f,%.3f,%.3f,%.3f,%.3f,%.3f,%.3f,%.3f,%.3f,%.3f,%.3f,%.3f,%.5f,%.5f,%.3f,%.3f,%.3f,%.3f,%.3f,%.3f,%.3f,%.3f,%.3f,%.3f,%.3f,%.3f,%.3f,%.3f')\n",
    "assert fmt.count(',') == output.shape[1]-1\n",
    "np.savetxt('input_data/NASAGAIA_table_full.csv', output, delimiter=',', fmt=fmt, header=hdr)"
   ]
  },
  {
   "cell_type": "code",
   "execution_count": 278,
   "metadata": {},
   "outputs": [
    {
     "data": {
      "text/plain": [
       "([<matplotlib.lines.Line2D at 0x11c45acd0>], (0.1, 15), (0.1, 15))"
      ]
     },
     "execution_count": 278,
     "metadata": {},
     "output_type": "execute_result"
    },
    {
     "data": {
      "image/png": "[encoded data removed]",
      "text/plain": [
       "<Figure size 432x288 with 1 Axes>"
      ]
     },
     "metadata": {},
     "output_type": "display_data"
    }
   ],
   "source": [
    "plt.errorbar(unp.nominal_values(rpN), unp.nominal_values(rpG), \n",
    "             xerr=unp.std_devs(rpN), yerr=unp.std_devs(rpG), fmt='k.')\n",
    "plt.plot([0,15],[0,15],'k--'), plt.xlim((.1,15)), plt.ylim((.1,15))"
   ]
  },
  {
   "cell_type": "code",
   "execution_count": 280,
   "metadata": {},
   "outputs": [
    {
     "data": {
      "text/plain": [
       "250"
      ]
     },
     "execution_count": 280,
     "metadata": {},
     "output_type": "execute_result"
    }
   ],
   "source": [
    "rpN.size"
   ]
  },
  {
   "cell_type": "code",
   "execution_count": 228,
   "metadata": {},
   "outputs": [
    {
     "data": {
      "text/plain": [
       "((0, 0.8), (0, 0.8))"
      ]
     },
     "execution_count": 228,
     "metadata": {},
     "output_type": "execute_result"
    },
    {
     "data": {
      "image/png": "[encoded data removed]",
      "text/plain": [
       "<Figure size 432x288 with 1 Axes>"
      ]
     },
     "metadata": {},
     "output_type": "display_data"
    }
   ],
   "source": [
    "# compare stellar masses\n",
    "plt.errorbar(unp.nominal_values(MsN), unp.nominal_values(MsG), xerr=unp.std_devs(MsN), \n",
    "             yerr=unp.std_devs(MsG), fmt='k.')\n",
    "plt.plot([0,.8], [0,.8], 'b--')\n",
    "plt.xlim((0,.8)), plt.ylim((0,.8))"
   ]
  },
  {
   "cell_type": "code",
   "execution_count": null,
   "metadata": {},
   "outputs": [],
   "source": []
  }
 ],
 "metadata": {
  "kernelspec": {
   "display_name": "Python [default]",
   "language": "python",
   "name": "python2"
  },
  "language_info": {
   "codemirror_mode": {
    "name": "ipython",
    "version": 2
   },
   "file_extension": ".py",
   "mimetype": "text/x-python",
   "name": "python",
   "nbconvert_exporter": "python",
   "pygments_lexer": "ipython2",
   "version": "2.7.13"
  }
 },
 "nbformat": 4,
 "nbformat_minor": 2
}
