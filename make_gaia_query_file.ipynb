{
 "cells": [
  {
   "cell_type": "code",
   "execution_count": 2,
   "metadata": {},
   "outputs": [],
   "source": [
    "from imports import *\n",
    "%matplotlib inline"
   ]
  },
  {
   "cell_type": "code",
   "execution_count": 11,
   "metadata": {},
   "outputs": [],
   "source": [
    "def read_NASA_stellar_data():\n",
    "    d = np.genfromtxt('input_data/NASAexoplanet_Aug222018_stellar.csv', skip_header=53, delimiter=',')\n",
    "    id,_,_,_,ra,_,dec,Teff,uTeff,lTeff,_,Ms,uMs,lMs,_,Rs,uRs,lRs,_,_,GAIApar,uGAIApar,lGAIApar,_,Ls,uLs,lLs,_,M_H,uM_H,lM_H,_,Vmag,eVmag,_,Jmag,eJmag,_,Hmag,eHmag,_,Kmag,eKmag,_ = d.T\n",
    "    return id, ra, dec, Teff, uTeff, lTeff, Ms, uMs, lMs, Rs, uRs, lRs, GAIApar, uGAIApar, lGAIApar, Ls, uLs, lLs, M_H, uM_H, lM_H, Vmag, eVmag, Jmag, eJmag, Hmag, eHmag, Kmag, eKmag"
   ]
  },
  {
   "cell_type": "code",
   "execution_count": 17,
   "metadata": {},
   "outputs": [
    {
     "name": "stdout",
     "output_type": "stream",
     "text": [
      "Nstars = 259\n"
     ]
    }
   ],
   "source": [
    "# get data\n",
    "ids, ra, dec, Teff, uTeff, lTeff, Ms, uMs, lMs, Rs, uRs, lRs, GAIApar, uGAIApar, lGAIApar, Ls, uLs, lLs, M_H, uM_H, lM_H, Vmag, eVmag, JVmag, eJmag, Hmag, eHmag, Kmag, eKmag = read_NASA_stellar_data()\n",
    "print 'Nstars =', ids.size"
   ]
  },
  {
   "cell_type": "code",
   "execution_count": 18,
   "metadata": {},
   "outputs": [],
   "source": [
    "# create query form"
   ]
  },
  {
   "cell_type": "code",
   "execution_count": 29,
   "metadata": {},
   "outputs": [],
   "source": [
    "# create query form\n",
    "g = ''\n",
    "for i in range(2):#ids.size):\n",
    "    label = '+' if dec[i] >= 0 else ''\n",
    "    g += '%.7f%s%.7f (degrees, degrees)\\n'%(ra[i], label, dec[i])\n",
    "    \n",
    "f = open('input_data/gaia_query.txt')"
   ]
  },
  {
   "cell_type": "code",
   "execution_count": 30,
   "metadata": {},
   "outputs": [
    {
     "name": "stdout",
     "output_type": "stream",
     "text": [
      "130.4103700+17.6400050 (degrees, degrees)\n",
      "153.7157370-47.1567270 (degrees, degrees)\n",
      "\n"
     ]
    }
   ],
   "source": [
    "print g"
   ]
  },
  {
   "cell_type": "code",
   "execution_count": null,
   "metadata": {},
   "outputs": [],
   "source": []
  }
 ],
 "metadata": {
  "kernelspec": {
   "display_name": "Python [default]",
   "language": "python",
   "name": "python2"
  },
  "language_info": {
   "codemirror_mode": {
    "name": "ipython",
    "version": 2
   },
   "file_extension": ".py",
   "mimetype": "text/x-python",
   "name": "python",
   "nbconvert_exporter": "python",
   "pygments_lexer": "ipython2",
   "version": "2.7.13"
  }
 },
 "nbformat": 4,
 "nbformat_minor": 2
}
