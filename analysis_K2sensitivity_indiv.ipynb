{
 "cells": [
  {
   "cell_type": "code",
   "execution_count": 3,
   "metadata": {},
   "outputs": [],
   "source": [
    "from K2sensclass import *\n",
    "%matplotlib inline"
   ]
  },
  {
   "cell_type": "code",
   "execution_count": 5,
   "metadata": {},
   "outputs": [],
   "source": [
    "# get K2sensitivity objects moved over from ricky\n",
    "fs = np.array(glob.glob('PipelineResults/EPIC_2*/E*sens*'))"
   ]
  },
  {
   "cell_type": "code",
   "execution_count": 6,
   "metadata": {},
   "outputs": [
    {
     "name": "stdout",
     "output_type": "stream",
     "text": [
      "PipelineResults/EPIC_250006486/EPIC_250006486_sens\n"
     ]
    }
   ],
   "source": [
    "# plot example maps\n",
    "i = np.random.randint(fs.size)\n",
    "print fs[i]\n",
    "self = loadpickle(fs[i])\n",
    "self.plot_map(self.Ndet, 'Ndet', sumtitle=True)\n",
    "self.plot_map(self.Ntrue, 'Ndet', sumtitle=True)"
   ]
  },
  {
   "cell_type": "code",
   "execution_count": null,
   "metadata": {},
   "outputs": [],
   "source": []
  }
 ],
 "metadata": {
  "kernelspec": {
   "display_name": "Python [default]",
   "language": "python",
   "name": "python2"
  },
  "language_info": {
   "codemirror_mode": {
    "name": "ipython",
    "version": 2
   },
   "file_extension": ".py",
   "mimetype": "text/x-python",
   "name": "python",
   "nbconvert_exporter": "python",
   "pygments_lexer": "ipython2",
   "version": "2.7.13"
  }
 },
 "nbformat": 4,
 "nbformat_minor": 2
}
